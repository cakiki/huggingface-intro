{
 "cells": [
  {
   "cell_type": "code",
   "execution_count": 24,
   "id": "2b457cfc",
   "metadata": {},
   "outputs": [],
   "source": [
    "classifier = pipeline(\"sentiment-analysis\")"
   ]
  },
  {
   "cell_type": "code",
   "execution_count": 32,
   "id": "de85a2ce",
   "metadata": {},
   "outputs": [],
   "source": [
    "from transformers.pipelines import get_supported_tasks"
   ]
  },
  {
   "cell_type": "code",
   "execution_count": 30,
   "id": "a39ef9a0",
   "metadata": {},
   "outputs": [
    {
     "data": {
      "text/plain": [
       "['audio-classification',\n",
       " 'automatic-speech-recognition',\n",
       " 'conversational',\n",
       " 'feature-extraction',\n",
       " 'fill-mask',\n",
       " 'image-classification',\n",
       " 'image-segmentation',\n",
       " 'ner',\n",
       " 'object-detection',\n",
       " 'question-answering',\n",
       " 'sentiment-analysis',\n",
       " 'summarization',\n",
       " 'table-question-answering',\n",
       " 'text-classification',\n",
       " 'text-generation',\n",
       " 'text2text-generation',\n",
       " 'token-classification',\n",
       " 'translation',\n",
       " 'zero-shot-classification',\n",
       " 'zero-shot-image-classification']"
      ]
     },
     "execution_count": 30,
     "metadata": {},
     "output_type": "execute_result"
    }
   ],
   "source": [
    "get_supported_tasks()"
   ]
  },
  {
   "cell_type": "code",
   "execution_count": 17,
   "id": "f95a9e09",
   "metadata": {
    "slideshow": {
     "slide_type": "skip"
    }
   },
   "outputs": [],
   "source": [
    "import transformers\n",
    "import pandas as pd\n",
    "classifier = pipeline(\"sentiment-analysis\")\n",
    "ner_tagger = pipeline(\"ner\", aggregation_strategy=\"simple\", model=\"\")\n",
    "qa = pipeline(\"question-answering\", model=\"\")\n",
    "translator = pipeline(\"translation_en_to_de\", model=\"Helsinki-NLP/opus-mt-en-de\")\n",
    "\n",
    "transformers.logging.set_verbosity_error()"
   ]
  },
  {
   "cell_type": "markdown",
   "id": "77716564",
   "metadata": {
    "slideshow": {
     "slide_type": "slide"
    }
   },
   "source": [
    "<h1 style=\"text-align:center;\">A Whirlwind Tour of the 🤗 Hugging Face Ecosystem</h1>"
   ]
  },
  {
   "cell_type": "markdown",
   "id": "ec11d2af",
   "metadata": {},
   "source": [
    "<br><br><br><br>"
   ]
  },
  {
   "cell_type": "markdown",
   "id": "f39cc27f",
   "metadata": {},
   "source": [
    "<h3 style=\"text-align:center;\"><b>Christopher Akiki</b></h3>"
   ]
  },
  {
   "cell_type": "markdown",
   "id": "b37e4175",
   "metadata": {
    "slideshow": {
     "slide_type": "subslide"
    }
   },
   "source": [
    "<center><img src=\"images/chapter01_hf-ecosystem.png\" width=800></center>"
   ]
  },
  {
   "cell_type": "markdown",
   "id": "2cbb9897",
   "metadata": {
    "slideshow": {
     "slide_type": "subslide"
    }
   },
   "source": [
    "<center><img src=\"images/chapter02_hf-libraries.png\" width=1800></center>"
   ]
  },
  {
   "cell_type": "markdown",
   "id": "2bdfbbea",
   "metadata": {
    "slideshow": {
     "slide_type": "slide"
    }
   },
   "source": [
    "<h1 style=\"text-align:center;\">🤗 Pipelines</h1>"
   ]
  },
  {
   "cell_type": "markdown",
   "id": "32225148",
   "metadata": {},
   "source": [
    "<br><br>"
   ]
  },
  {
   "cell_type": "code",
   "execution_count": 2,
   "id": "8efa0a34",
   "metadata": {
    "slideshow": {
     "slide_type": "fragment"
    }
   },
   "outputs": [],
   "source": [
    "from transformers import pipeline"
   ]
  },
  {
   "cell_type": "markdown",
   "id": "a712fdfd",
   "metadata": {
    "slideshow": {
     "slide_type": "subslide"
    }
   },
   "source": [
    "\n",
    "<center><img src=\"images/gewandhaus_review.png\" width=900></center>"
   ]
  },
  {
   "cell_type": "code",
   "execution_count": 3,
   "id": "a21dcda6",
   "metadata": {
    "slideshow": {
     "slide_type": "-"
    }
   },
   "outputs": [],
   "source": [
    "text = \"\"\"One of the best orchestra in the world. I came to Leipzig\\\n",
    "            mainly to have one experience with Gewanhaus Leipzig Orchestra. \n",
    "            Under the baton of Maestro Andris Nelsons, Bruckner symphony #8 was so affection. \n",
    "            The acustic and layout of the concert hall is nice.\"\"\""
   ]
  },
  {
   "cell_type": "markdown",
   "id": "383d0e7e",
   "metadata": {
    "slideshow": {
     "slide_type": "subslide"
    }
   },
   "source": [
    "# Sentiment Analysis"
   ]
  },
  {
   "cell_type": "markdown",
   "id": "23fb2747",
   "metadata": {},
   "source": [
    "```python\n",
    "classifier = pipeline(\"text-classification\")\n",
    "```"
   ]
  },
  {
   "cell_type": "code",
   "execution_count": 19,
   "id": "891c8038",
   "metadata": {},
   "outputs": [
    {
     "data": {
      "text/plain": [
       "{'label': 'POSITIVE', 'score': 0.9998534917831421}"
      ]
     },
     "execution_count": 19,
     "metadata": {},
     "output_type": "execute_result"
    }
   ],
   "source": [
    "outputs = classifier(text)\n",
    "outputs[0]"
   ]
  },
  {
   "cell_type": "markdown",
   "id": "ca993ce3",
   "metadata": {
    "slideshow": {
     "slide_type": "fragment"
    }
   },
   "source": [
    "# Named-Entity Recognition"
   ]
  },
  {
   "cell_type": "markdown",
   "id": "2e36aca1",
   "metadata": {},
   "source": [
    "```python\n",
    "ner_tagger = pipeline(\"ner\", aggregation_strategy=\"simple\")\n",
    "```"
   ]
  },
  {
   "cell_type": "code",
   "execution_count": 20,
   "id": "9f8e4899",
   "metadata": {},
   "outputs": [
    {
     "data": {
      "text/html": [
       "<div>\n",
       "<style scoped>\n",
       "    .dataframe tbody tr th:only-of-type {\n",
       "        vertical-align: middle;\n",
       "    }\n",
       "\n",
       "    .dataframe tbody tr th {\n",
       "        vertical-align: top;\n",
       "    }\n",
       "\n",
       "    .dataframe thead th {\n",
       "        text-align: right;\n",
       "    }\n",
       "</style>\n",
       "<table border=\"1\" class=\"dataframe\">\n",
       "  <thead>\n",
       "    <tr style=\"text-align: right;\">\n",
       "      <th></th>\n",
       "      <th>entity_group</th>\n",
       "      <th>score</th>\n",
       "      <th>word</th>\n",
       "      <th>start</th>\n",
       "      <th>end</th>\n",
       "    </tr>\n",
       "  </thead>\n",
       "  <tbody>\n",
       "    <tr>\n",
       "      <th>0</th>\n",
       "      <td>LOC</td>\n",
       "      <td>0.999257</td>\n",
       "      <td>Leipzig</td>\n",
       "      <td>50</td>\n",
       "      <td>57</td>\n",
       "    </tr>\n",
       "    <tr>\n",
       "      <th>1</th>\n",
       "      <td>ORG</td>\n",
       "      <td>0.990783</td>\n",
       "      <td>Gewanhaus Leipzig Orchestra</td>\n",
       "      <td>104</td>\n",
       "      <td>131</td>\n",
       "    </tr>\n",
       "    <tr>\n",
       "      <th>2</th>\n",
       "      <td>PER</td>\n",
       "      <td>0.996171</td>\n",
       "      <td>Andris Nelsons</td>\n",
       "      <td>173</td>\n",
       "      <td>187</td>\n",
       "    </tr>\n",
       "    <tr>\n",
       "      <th>3</th>\n",
       "      <td>MISC</td>\n",
       "      <td>0.564720</td>\n",
       "      <td>B</td>\n",
       "      <td>189</td>\n",
       "      <td>190</td>\n",
       "    </tr>\n",
       "    <tr>\n",
       "      <th>4</th>\n",
       "      <td>ORG</td>\n",
       "      <td>0.268703</td>\n",
       "      <td>##ck</td>\n",
       "      <td>192</td>\n",
       "      <td>194</td>\n",
       "    </tr>\n",
       "    <tr>\n",
       "      <th>5</th>\n",
       "      <td>MISC</td>\n",
       "      <td>0.364942</td>\n",
       "      <td>##ner</td>\n",
       "      <td>194</td>\n",
       "      <td>197</td>\n",
       "    </tr>\n",
       "  </tbody>\n",
       "</table>\n",
       "</div>"
      ],
      "text/plain": [
       "  entity_group     score                         word  start  end\n",
       "0          LOC  0.999257                      Leipzig     50   57\n",
       "1          ORG  0.990783  Gewanhaus Leipzig Orchestra    104  131\n",
       "2          PER  0.996171               Andris Nelsons    173  187\n",
       "3         MISC  0.564720                            B    189  190\n",
       "4          ORG  0.268703                         ##ck    192  194\n",
       "5         MISC  0.364942                        ##ner    194  197"
      ]
     },
     "execution_count": 20,
     "metadata": {},
     "output_type": "execute_result"
    }
   ],
   "source": [
    "outputs = ner_tagger(text)\n",
    "pd.DataFrame(outputs)"
   ]
  },
  {
   "cell_type": "markdown",
   "id": "dbf043b0",
   "metadata": {
    "slideshow": {
     "slide_type": "fragment"
    }
   },
   "source": [
    "# Question Answering"
   ]
  },
  {
   "cell_type": "markdown",
   "id": "dc4499f1",
   "metadata": {},
   "source": [
    "```python\n",
    "qa = pipeline(\"question-answering\")\n",
    "```"
   ]
  },
  {
   "cell_type": "code",
   "execution_count": 21,
   "id": "1711b5fe",
   "metadata": {},
   "outputs": [
    {
     "data": {
      "text/plain": [
       "{'score': 0.5873121023178101,\n",
       " 'start': 76,\n",
       " 'end': 131,\n",
       " 'answer': 'to have one experience with Gewanhaus Leipzig Orchestra'}"
      ]
     },
     "execution_count": 21,
     "metadata": {},
     "output_type": "execute_result"
    }
   ],
   "source": [
    "question = \"Why did I visit Leipzig?\"\n",
    "outputs = qa(question=question, context=text)\n",
    "outputs"
   ]
  },
  {
   "cell_type": "code",
   "execution_count": 22,
   "id": "9e4d7e8d",
   "metadata": {},
   "outputs": [
    {
     "data": {
      "text/plain": [
       "{'score': 0.1337369829416275,\n",
       " 'start': 189,\n",
       " 'end': 209,\n",
       " 'answer': 'Bruckner symphony #8'}"
      ]
     },
     "execution_count": 22,
     "metadata": {},
     "output_type": "execute_result"
    }
   ],
   "source": [
    "question = \"What music did the orchestra play?\"\n",
    "outputs = qa(question=question, context=text)\n",
    "outputs"
   ]
  },
  {
   "cell_type": "markdown",
   "id": "203bbce4",
   "metadata": {},
   "source": [
    "# Translation"
   ]
  },
  {
   "cell_type": "markdown",
   "id": "4b4a68dc",
   "metadata": {},
   "source": [
    "```python\n",
    "translator = pipeline(\"translation_en_to_de\", model=\"Helsinki-NLP/opus-mt-en-de\")\n",
    "```"
   ]
  },
  {
   "cell_type": "code",
   "execution_count": 18,
   "id": "4076c0f9",
   "metadata": {},
   "outputs": [
    {
     "name": "stdout",
     "output_type": "stream",
     "text": [
      "Ich bin vor allem nach Leipzig gekommen, um eine Erfahrung mit dem Gewanhaus Leipzig Orchestra zu machen. Unter der Leitung von Maestro Andris Nelsons war die Bruckner Sinfonie #8 so liebevoll, dass die Akustik und Gestaltung des Konzertsaales schön ist.\n"
     ]
    }
   ],
   "source": [
    "outputs = translator(text, clean_up_tokenization_spaces=True)\n",
    "print(outputs[0]['translation_text'])"
   ]
  },
  {
   "cell_type": "markdown",
   "id": "aedb6157",
   "metadata": {
    "slideshow": {
     "slide_type": "slide"
    }
   },
   "source": [
    "<h1 style=\"text-align:center;\">🤗 Tokenizers</h1>"
   ]
  },
  {
   "cell_type": "markdown",
   "id": "7fdac586",
   "metadata": {
    "slideshow": {
     "slide_type": "subslide"
    }
   },
   "source": [
    "<center><img src=\"images/tokenization_pipeline.svg\" width=1200></center>"
   ]
  },
  {
   "cell_type": "code",
   "execution_count": null,
   "id": "d5b370ce",
   "metadata": {
    "slideshow": {
     "slide_type": "subslide"
    }
   },
   "outputs": [],
   "source": [
    "import nltk\n",
    "from nltk.tokenize import sent_tokenize\n",
    "nltk.download('gutenberg')\n",
    "nltk.download('punkt')"
   ]
  },
  {
   "cell_type": "code",
   "execution_count": null,
   "id": "b90e5186",
   "metadata": {
    "slideshow": {
     "slide_type": "fragment"
    }
   },
   "outputs": [],
   "source": [
    "print(nltk.corpus.gutenberg.fileids())"
   ]
  },
  {
   "cell_type": "code",
   "execution_count": null,
   "id": "36d39c6f",
   "metadata": {
    "slideshow": {
     "slide_type": "fragment"
    }
   },
   "outputs": [],
   "source": [
    "moby_dick_raw = nltk.corpus.gutenberg.raw('melville-moby_dick.txt')\n",
    "moby_dick_sentences = sent_tokenize(moby_dick, language='english')"
   ]
  },
  {
   "cell_type": "code",
   "execution_count": null,
   "id": "03fc19fc",
   "metadata": {
    "slideshow": {
     "slide_type": "fragment"
    }
   },
   "outputs": [],
   "source": [
    "len(moby_dick_sentences)"
   ]
  },
  {
   "cell_type": "code",
   "execution_count": null,
   "id": "dca45ab2",
   "metadata": {
    "slideshow": {
     "slide_type": "subslide"
    }
   },
   "outputs": [],
   "source": [
    "from tokenizers import Tokenizer, normalizers, pre_tokenizers, processors\n",
    "from tokenizers.models import WordPiece\n",
    "from tokenizers.trainers import WordPieceTrainer"
   ]
  },
  {
   "cell_type": "code",
   "execution_count": null,
   "id": "313154cf",
   "metadata": {
    "slideshow": {
     "slide_type": "fragment"
    }
   },
   "outputs": [],
   "source": [
    "unk_token = \"[UNK]\"\n",
    "pad_token = \"[PAD]\"\n",
    "cls_token = \"[CLS]\" \n",
    "sep_token = \"[SEP]\"\n",
    "mask_token = \"[MASK]\"\n",
    "special_tokens = [unk_token, pad_token, cls_token, sep_token, mask_token]\n",
    "vocab_size = 20_000"
   ]
  },
  {
   "cell_type": "code",
   "execution_count": null,
   "id": "0ea08735",
   "metadata": {
    "slideshow": {
     "slide_type": "fragment"
    }
   },
   "outputs": [],
   "source": [
    "custom_tokenizer = Tokenizer(WordPiece(unk_token=unk_token))"
   ]
  },
  {
   "cell_type": "code",
   "execution_count": null,
   "id": "ce3889c0",
   "metadata": {
    "slideshow": {
     "slide_type": "fragment"
    }
   },
   "outputs": [],
   "source": [
    "custom_normalizer = normalizers.Sequence(\n",
    "            [normalizers.NFKD(), normalizers.Lowercase(), normalizers.StripAccents()]\n",
    ")"
   ]
  },
  {
   "cell_type": "code",
   "execution_count": null,
   "id": "586aa00b",
   "metadata": {
    "scrolled": true,
    "slideshow": {
     "slide_type": "fragment"
    }
   },
   "outputs": [],
   "source": [
    "custom_pre_tokenizer = pre_tokenizers.Sequence(\n",
    "            [pre_tokenizers.WhitespaceSplit(), pre_tokenizers.Punctuation()]\n",
    ")"
   ]
  },
  {
   "cell_type": "code",
   "execution_count": null,
   "id": "b5b3defc",
   "metadata": {
    "slideshow": {
     "slide_type": "fragment"
    }
   },
   "outputs": [],
   "source": [
    "custom_trainer = WordPieceTrainer(vocab_size=vocab_size, special_tokens=special_tokens, show_progress=False)"
   ]
  },
  {
   "cell_type": "code",
   "execution_count": null,
   "id": "8ca3e7df",
   "metadata": {
    "slideshow": {
     "slide_type": "fragment"
    }
   },
   "outputs": [],
   "source": [
    "custom_tokenizer.normalizer = custom_normalizer\n",
    "custom_tokenizer.pre_tokenizer = custom_pre_tokenizer"
   ]
  },
  {
   "cell_type": "code",
   "execution_count": null,
   "id": "7da94e5c",
   "metadata": {
    "slideshow": {
     "slide_type": "subslide"
    }
   },
   "outputs": [],
   "source": [
    "custom_tokenizer.train_from_iterator(moby_dick_sentences, trainer=custom_trainer)"
   ]
  },
  {
   "cell_type": "code",
   "execution_count": null,
   "id": "351e8730",
   "metadata": {},
   "outputs": [],
   "source": [
    "custom_tokenizer.get_vocab_size()"
   ]
  },
  {
   "cell_type": "code",
   "execution_count": null,
   "id": "dc6f9099",
   "metadata": {},
   "outputs": [],
   "source": [
    "encoding = custom_tokenizer.encode(\"Let us test this tokenizer\")\n",
    "print(encoding.tokens)"
   ]
  },
  {
   "cell_type": "code",
   "execution_count": null,
   "id": "78244dfc",
   "metadata": {},
   "outputs": [],
   "source": [
    "cls_token_id = tokenizer.token_to_id(cls_token)\n",
    "sep_token_id = tokenizer.token_to_id(sep_token)\n",
    "\n",
    "custom_post_processor = processors.TemplateProcessing(\n",
    "    single=f\"{cls_token}:0 $A:0 {sep_token}:0\",\n",
    "    pair=f\"{cls_token}:0 $A:0 {sep_token}:0 $B:1 {sep_token}:1\",\n",
    "    special_tokens=[(cls_token, cls_token_id), (sep_token, sep_token_id)],\n",
    ")\n",
    "\n",
    "custom_tokenizer.post_processor = custom_post_processor"
   ]
  },
  {
   "cell_type": "code",
   "execution_count": null,
   "id": "29871967",
   "metadata": {},
   "outputs": [],
   "source": [
    "encoding = custom_tokenizer.encode(\"Let us test this tokenizer\")\n",
    "print(encoding.tokens)"
   ]
  },
  {
   "cell_type": "code",
   "execution_count": null,
   "id": "9d5f73fb",
   "metadata": {},
   "outputs": [],
   "source": [
    "encoding = custom_tokenizer.encode(\"This is the first sentence\", \"This is sentence number 2\")\n",
    "print(encoding.tokens)\n",
    "print(encoding.ids)\n",
    "print(encoding.type_ids)"
   ]
  },
  {
   "cell_type": "markdown",
   "id": "e7bcc5ff",
   "metadata": {
    "slideshow": {
     "slide_type": "subslide"
    }
   },
   "source": [
    "# Using our custom tokenizer with 🤗 Transformers"
   ]
  },
  {
   "cell_type": "code",
   "execution_count": null,
   "id": "278abcd7",
   "metadata": {},
   "outputs": [],
   "source": [
    "from transformers import PreTrainedTokenizerFast\n",
    "\n",
    "PreTrainedTokenizerFast\n"
   ]
  },
  {
   "cell_type": "markdown",
   "id": "2e6646d3",
   "metadata": {
    "slideshow": {
     "slide_type": "slide"
    }
   },
   "source": [
    "<h1 style=\"text-align:center;\">🤗 Datasets</h1>"
   ]
  },
  {
   "cell_type": "markdown",
   "id": "696eb2e2",
   "metadata": {},
   "source": [
    "<table><thead><tr><th align=\"center\">Data format</th> <th align=\"center\">Loading script</th> <th align=\"center\">Example</th></tr></thead> <tbody><tr><td align=\"center\">CSV &amp; TSV</td> <td align=\"center\"><code>csv</code></td> <td align=\"center\"><code>load_dataset(\"csv\", data_files=\"my_file.csv\")</code></td></tr> <tr><td align=\"center\">Text files</td> <td align=\"center\"><code>text</code></td> <td align=\"center\"><code>load_dataset(\"text\", data_files=\"my_file.txt\")</code></td></tr> <tr><td align=\"center\">JSON &amp; JSON Lines</td> <td align=\"center\"><code>json</code></td> <td align=\"center\"><code>load_dataset(\"json\", data_files=\"my_file.jsonl\")</code></td></tr> <tr><td align=\"center\">Pickled DataFrames</td> <td align=\"center\"><code>pandas</code></td> <td align=\"center\"><code>load_dataset(\"pandas\", data_files=\"my_dataframe.pkl\")</code></td></tr></tbody></table>"
   ]
  },
  {
   "cell_type": "markdown",
   "id": "d7ce34bc",
   "metadata": {
    "slideshow": {
     "slide_type": "slide"
    }
   },
   "source": [
    "<h1 style=\"text-align:center;\">🤗 Transformers</h1>"
   ]
  },
  {
   "cell_type": "code",
   "execution_count": null,
   "id": "9c1dcd42",
   "metadata": {},
   "outputs": [],
   "source": []
  },
  {
   "cell_type": "markdown",
   "id": "e9b1bafa",
   "metadata": {
    "slideshow": {
     "slide_type": "slide"
    }
   },
   "source": [
    "<h1 style=\"text-align:center;\">Case-study: 📜 Scientific Paper Retrieval</h1>"
   ]
  },
  {
   "cell_type": "markdown",
   "id": "fa258f94",
   "metadata": {
    "slideshow": {
     "slide_type": "slide"
    }
   },
   "source": [
    "<h1 style=\"text-align:center;\">(Re)sources</h1>"
   ]
  },
  {
   "cell_type": "markdown",
   "id": "b6c5d966",
   "metadata": {},
   "source": [
    "- https://github.com/nlp-with-transformers/notebooks\n",
    "\n",
    "- https://github.com/huggingface/course\n",
    "\n",
    "\n",
    "<center><a href=\"https://www.oreilly.com/library/view/natural-language-processing/9781098103231/\"><img src=\"images/book_cover.png\" width=500></a></center>"
   ]
  }
 ],
 "metadata": {
  "celltoolbar": "Slideshow",
  "kernelspec": {
   "display_name": "Python 3 (ipykernel)",
   "language": "python",
   "name": "python3"
  },
  "language_info": {
   "codemirror_mode": {
    "name": "ipython",
    "version": 3
   },
   "file_extension": ".py",
   "mimetype": "text/x-python",
   "name": "python",
   "nbconvert_exporter": "python",
   "pygments_lexer": "ipython3",
   "version": "3.9.10"
  }
 },
 "nbformat": 4,
 "nbformat_minor": 5
}
